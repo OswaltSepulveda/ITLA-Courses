{
 "cells": [
  {
   "cell_type": "markdown",
   "metadata": {},
   "source": [
    "# UCS - Uniform Cost Search (Priority queue)"
   ]
  },
  {
   "cell_type": "code",
   "execution_count": 6,
   "metadata": {},
   "outputs": [],
   "source": [
    "class Graph:\n",
    "    def __init__(self, filename):\n",
    "        self.nodes = []  \n",
    "        self.edges = {}  \n",
    "        self.load_from_file(filename)\n",
    "\n",
    "    def load_from_file(self, filename):\n",
    "        with open(filename, \"r\") as file:\n",
    "            lines = file.readlines()\n",
    "\n",
    "        first_line = lines[0].strip().split()\n",
    "        n, m = int(first_line[0]), int(first_line[1])\n",
    "\n",
    "        self.nodes = [Node(str(i)) for i in range(n)]\n",
    "        self.edges = {node.name: {} for node in self.nodes}\n",
    "\n",
    "        for line in lines[1:]:\n",
    "            u, v, *w = map(int, line.strip().split())\n",
    "            weight = w[0] if w else 1\n",
    "            self.edges[str(u)][str(v)] = weight\n",
    "            self.edges[str(v)][str(u)] = weight  \n",
    "\n",
    "class Node:\n",
    "    def __init__(self, name):\n",
    "        self.name = name"
   ]
  },
  {
   "cell_type": "markdown",
   "metadata": {},
   "source": [
    " **Lista de adyacencia**"
   ]
  },
  {
   "cell_type": "code",
   "execution_count": 7,
   "metadata": {},
   "outputs": [],
   "source": [
    "class ListaAdyacencia:\n",
    "    def __init__(self, graph):\n",
    "        self.adj_list = {}\n",
    "        self.build_from_graph(graph)\n",
    "\n",
    "    def build_from_graph(self, graph):\n",
    "        for node in graph.nodes:\n",
    "            self.adj_list[node.name] = list(graph.edges[node.name].keys())\n",
    "\n",
    "    def display(self):\n",
    "        print(\"Lista de Adyacencia:\")\n",
    "        for node, neighbors in self.adj_list.items():\n",
    "            print(f\"{node}: {neighbors}\")"
   ]
  },
  {
   "cell_type": "code",
   "execution_count": 8,
   "metadata": {},
   "outputs": [
    {
     "name": "stdout",
     "output_type": "stream",
     "text": [
      "Lista de Adyacencia:\n",
      "0: ['1', '2']\n",
      "1: ['0', '2', '3']\n",
      "2: ['0', '1', '3']\n",
      "3: ['1', '2']\n"
     ]
    }
   ],
   "source": [
    "graph = Graph(\"grafo_ucs.txt\")\n",
    "\n",
    "# Lista de adyacencia\n",
    "Lista_adyacencia = ListaAdyacencia(graph)\n",
    "Lista_adyacencia.display()"
   ]
  },
  {
   "cell_type": "markdown",
   "metadata": {},
   "source": [
    "**Lista de adyacencia ponderada**"
   ]
  },
  {
   "cell_type": "code",
   "execution_count": 9,
   "metadata": {},
   "outputs": [],
   "source": [
    "class ListaAdyacenciaPonderada:\n",
    "    def __init__(self, graph):\n",
    "        self.weighted_adj_list = {}\n",
    "        self.build_from_graph(graph)\n",
    "\n",
    "    def build_from_graph(self, graph):\n",
    "        for node in graph.nodes:\n",
    "            self.weighted_adj_list[node.name] = [(neighbor, weight) for neighbor, weight in graph.edges[node.name].items()]\n",
    "\n",
    "    def display(self):\n",
    "        print(\"Lista de Adyacencia Ponderada:\")\n",
    "        for node, neighbors in self.weighted_adj_list.items():\n",
    "            print(f\"{node}: {neighbors}\")"
   ]
  },
  {
   "cell_type": "code",
   "execution_count": 10,
   "metadata": {},
   "outputs": [
    {
     "name": "stdout",
     "output_type": "stream",
     "text": [
      "Lista de Adyacencia Ponderada:\n",
      "0: [('1', 2), ('2', 4)]\n",
      "1: [('0', 2), ('2', 1), ('3', 7)]\n",
      "2: [('0', 4), ('1', 1), ('3', 3)]\n",
      "3: [('1', 7), ('2', 3)]\n"
     ]
    }
   ],
   "source": [
    "graph = Graph(\"grafo_ucs.txt\")\n",
    "\n",
    "Adyacencia_podnderada = ListaAdyacenciaPonderada(graph)\n",
    "Adyacencia_podnderada.display()"
   ]
  },
  {
   "cell_type": "markdown",
   "metadata": {},
   "source": [
    "**Matriz binaria**"
   ]
  },
  {
   "cell_type": "code",
   "execution_count": 28,
   "metadata": {},
   "outputs": [],
   "source": [
    "class MatrizBinaria:\n",
    "    def __init__(self, graph):\n",
    "        self.matrix = []\n",
    "        self.build_from_graph(graph)\n",
    "\n",
    "    def build_from_graph(self, graph):\n",
    "        n = len(graph.nodes)\n",
    "        node_indices = {node.name: idx for idx, node in enumerate(graph.nodes)}\n",
    "        self.matrix = [[0] * n for _ in range(n)]\n",
    "\n",
    "        for node in graph.nodes:\n",
    "            u = node_indices[node.name]\n",
    "            for neighbor in graph.edges[node.name]:\n",
    "                v = node_indices[neighbor]\n",
    "                self.matrix[u][v] = 1\n",
    "\n",
    "    def display(self, nodes):\n",
    "        print(\"Matriz Binaria:\")\n",
    "        for row in self.matrix:\n",
    "            print(row)"
   ]
  },
  {
   "cell_type": "code",
   "execution_count": 29,
   "metadata": {},
   "outputs": [
    {
     "name": "stdout",
     "output_type": "stream",
     "text": [
      "Matriz Binaria:\n",
      "[0, 1, 1, 0]\n",
      "[1, 0, 1, 1]\n",
      "[1, 1, 0, 1]\n",
      "[0, 1, 1, 0]\n"
     ]
    }
   ],
   "source": [
    "graph = Graph(\"grafo_ucs.txt\")\n",
    "\n",
    "Matriz_binaria = MatrizBinaria(graph)\n",
    "Matriz_binaria.display(graph.nodes)"
   ]
  },
  {
   "cell_type": "markdown",
   "metadata": {},
   "source": [
    "**Matriz de Distancias**"
   ]
  },
  {
   "cell_type": "code",
   "execution_count": 13,
   "metadata": {},
   "outputs": [],
   "source": [
    "class DistanceMatrix:\n",
    "    def __init__(self, graph):\n",
    "        self.matrix = []\n",
    "        self.build_from_graph(graph)\n",
    "\n",
    "    def build_from_graph(self, graph):\n",
    "        n = len(graph.nodes)\n",
    "        node_indices = {node.name: idx for idx, node in enumerate(graph.nodes)}\n",
    "        self.matrix = [[float('inf')] * n for _ in range(n)]\n",
    "\n",
    "        for i in range(n):\n",
    "            self.matrix[i][i] = 0\n",
    "\n",
    "        for node in graph.nodes:\n",
    "            u = node_indices[node.name]\n",
    "            for neighbor, weight in graph.edges[node.name].items():\n",
    "                v = node_indices[neighbor]\n",
    "                self.matrix[u][v] = weight\n",
    "\n",
    "    def display(self, nodes):\n",
    "        print(\"Matriz de Distancias:\")\n",
    "        for row in self.matrix:\n",
    "            print(row)"
   ]
  },
  {
   "cell_type": "code",
   "execution_count": 14,
   "metadata": {},
   "outputs": [
    {
     "name": "stdout",
     "output_type": "stream",
     "text": [
      "Matriz de Distancias:\n",
      "[0, 2, 4, inf]\n",
      "[2, 0, 1, 7]\n",
      "[4, 1, 0, 3]\n",
      "[inf, 7, 3, 0]\n"
     ]
    }
   ],
   "source": [
    "graph = Graph(\"grafo_ucs.txt\")\n",
    "\n",
    "distance_matrix = DistanceMatrix(graph)\n",
    "distance_matrix.display(graph.nodes)"
   ]
  },
  {
   "cell_type": "markdown",
   "metadata": {},
   "source": [
    "**Algoritmo UCS**"
   ]
  },
  {
   "cell_type": "code",
   "execution_count": 41,
   "metadata": {},
   "outputs": [],
   "source": [
    "class UCS:\n",
    "    def __init__(self, graph):\n",
    "        self.graph = graph\n",
    "\n",
    "    def search(self, start, goal):\n",
    "        from heapq import heappop, heappush\n",
    "\n",
    "        frontier = [(0, start)] \n",
    "        expanded = set()       \n",
    "        came_from = {start: None} \n",
    "        cost_so_far = {start: 0}  \n",
    "\n",
    "        while frontier:\n",
    "            # Extraer el nodo con el menor costo acumulado\n",
    "            current_cost, current_node = heappop(frontier)\n",
    "\n",
    "            # Si el nodo actual ya fue expandido, lo saltamos\n",
    "            if current_node in expanded:\n",
    "                continue\n",
    "\n",
    "            # Si encontramos el nodo objetivo, reconstruimos el camino\n",
    "            if current_node == goal:\n",
    "                path = []\n",
    "                while current_node is not None:\n",
    "                    path.append(current_node)\n",
    "                    current_node = came_from[current_node]\n",
    "                return path[::-1], current_cost\n",
    "\n",
    "            # Marcar el nodo como expandido\n",
    "            expanded.add(current_node)\n",
    "\n",
    "            # Explorar los vecinos del nodo actual\n",
    "            for neighbor, weight in self.graph.edges[current_node].items():\n",
    "                new_cost = current_cost + weight\n",
    "\n",
    "                # Si el vecino no está expandido ni en la frontera, o si encontramos un menor costo\n",
    "                if neighbor not in expanded and (neighbor not in cost_so_far or new_cost < cost_so_far[neighbor]):\n",
    "                    cost_so_far[neighbor] = new_cost\n",
    "                    came_from[neighbor] = current_node\n",
    "                    heappush(frontier, (new_cost, neighbor))\n",
    "\n",
    "        return None, float('inf')"
   ]
  },
  {
   "cell_type": "code",
   "execution_count": 48,
   "metadata": {},
   "outputs": [
    {
     "name": "stdout",
     "output_type": "stream",
     "text": [
      "Camino encontrado (UCS): ['2'] con costo 0\n"
     ]
    }
   ],
   "source": [
    "# Crear el grafo desde el archivo\n",
    "graph = Graph(\"grafo_ucs.txt\")\n",
    "\n",
    "# Crear una instancia del algoritmo UCS\n",
    "ucs_solver = UCS(graph)\n",
    "\n",
    "# Definir el nodo inicial y el nodo objetivo\n",
    "start_node = \"2\" \n",
    "goal_node = \"2\"   \n",
    "\n",
    "# Ejecutar la búsqueda UCS\n",
    "path, cost = ucs_solver.search(start_node, goal_node)\n",
    "\n",
    "print(f\"Camino encontrado (UCS): {path} con costo {cost}\")"
   ]
  }
 ],
 "metadata": {
  "kernelspec": {
   "display_name": "Python 3",
   "language": "python",
   "name": "python3"
  },
  "language_info": {
   "codemirror_mode": {
    "name": "ipython",
    "version": 3
   },
   "file_extension": ".py",
   "mimetype": "text/x-python",
   "name": "python",
   "nbconvert_exporter": "python",
   "pygments_lexer": "ipython3",
   "version": "3.10.11"
  }
 },
 "nbformat": 4,
 "nbformat_minor": 2
}
