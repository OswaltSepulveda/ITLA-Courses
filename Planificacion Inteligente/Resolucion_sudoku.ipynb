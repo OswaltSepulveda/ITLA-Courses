{
 "cells": [
  {
   "cell_type": "markdown",
   "id": "c27770d3",
   "metadata": {},
   "source": [
    "# Resolver Sudoku"
   ]
  },
  {
   "cell_type": "markdown",
   "id": "c8db7ac4",
   "metadata": {},
   "source": [
    "#\n",
    "**Librerias**"
   ]
  },
  {
   "cell_type": "code",
   "execution_count": 1,
   "id": "5e99c9c7",
   "metadata": {},
   "outputs": [],
   "source": [
    "from sudoku_solver.board import Board\n",
    "from sudoku_solver.solver import Solver, SolverX"
   ]
  },
  {
   "cell_type": "markdown",
   "id": "962d6351",
   "metadata": {},
   "source": [
    "#\n",
    "**Sudoku clasico**"
   ]
  },
  {
   "cell_type": "code",
   "execution_count": 2,
   "id": "3214f617",
   "metadata": {},
   "outputs": [],
   "source": [
    "def cadena_a_lista(cadena):\n",
    "    return [list(cadena[i:i + 9]) for i in range(0, len(cadena), 9)]\n",
    "\n",
    "def resolver_sudoku(cadena):\n",
    "    board = Board(cadena_a_lista(cadena))\n",
    "    if not board.es_valido():\n",
    "        print(\"El Sudoku no es valido\")\n",
    "        return\n",
    "    print(\"Sudoku inicial:\")\n",
    "    board.mostrar()\n",
    "    solver = Solver(board)\n",
    "    if solver.solve():\n",
    "        print(\"\\nSudoku resuelto:\")\n",
    "        board.mostrar()\n",
    "    else:\n",
    "        print(\"No se pudo resolver el Sudoku\")"
   ]
  },
  {
   "cell_type": "code",
   "execution_count": 3,
   "id": "ecdb7e83",
   "metadata": {},
   "outputs": [
    {
     "name": "stdout",
     "output_type": "stream",
     "text": [
      "Sudoku inicial:\n",
      ". 4 . . . . . 2 .\n",
      ". 1 . . 6 . . 8 .\n",
      ". . 3 . . . 4 . .\n",
      ". . 7 . 5 . 9 . .\n",
      "4 . . . . . . . 1\n",
      ". . 8 . 1 . 2 . .\n",
      ". . 9 . . . 3 . .\n",
      ". 2 . . 8 . . 4 .\n",
      ". 3 . . . . . 5 .\n",
      "\n",
      "\n",
      "Sudoku resuelto:\n",
      "7 4 6 3 9 8 1 2 5\n",
      "9 1 5 2 6 4 7 8 3\n",
      "2 8 3 1 7 5 4 9 6\n",
      "1 6 7 4 5 2 9 3 8\n",
      "4 9 2 8 3 7 5 6 1\n",
      "3 5 8 6 1 9 2 7 4\n",
      "8 7 9 5 4 6 3 1 2\n",
      "5 2 1 7 8 3 6 4 9\n",
      "6 3 4 9 2 1 8 5 7\n",
      "\n"
     ]
    }
   ],
   "source": [
    "sudoku = (\n",
    "    '.4.....2.'\n",
    "    '.1..6..8.'\n",
    "    '..3...4..'\n",
    "    '..7.5.9..'\n",
    "    '4.......1'\n",
    "    '..8.1.2..'\n",
    "    '..9...3..'\n",
    "    '.2..8..4.'\n",
    "    '.3.....5.'\n",
    ")\n",
    "\n",
    "resolver_sudoku(sudoku)"
   ]
  },
  {
   "cell_type": "markdown",
   "id": "79233422",
   "metadata": {},
   "source": [
    "#\n",
    "**Sudoku X**"
   ]
  },
  {
   "cell_type": "code",
   "execution_count": 4,
   "id": "760de6a9",
   "metadata": {},
   "outputs": [],
   "source": [
    "def resolver_sudoku_x(cadena):\n",
    "    board = Board(cadena_a_lista(cadena))\n",
    "    if not board.es_valido():\n",
    "        print(\"El Sudoku no es valido\")\n",
    "        return\n",
    "    print(\"Sudoku inicial:\")\n",
    "    board.mostrar()\n",
    "    solver_x = SolverX(board)\n",
    "    if solver_x.solve():\n",
    "        print(\"\\nSudoku resuelto:\")\n",
    "        board.mostrar()\n",
    "    else:\n",
    "        print(\"No se pudo resolver el Sudoku\")"
   ]
  },
  {
   "cell_type": "code",
   "execution_count": 6,
   "id": "6220b781",
   "metadata": {},
   "outputs": [
    {
     "name": "stdout",
     "output_type": "stream",
     "text": [
      "Sudoku inicial:\n",
      ". . . 9 . . 2 . .\n",
      ". 2 . . . . . 3 .\n",
      ". . 1 . 3 . 9 . .\n",
      "1 . . . . . . . 8\n",
      ". . 3 . . . 4 . .\n",
      "6 . . . . . . . 5\n",
      ". . 9 . 5 . 1 . .\n",
      ". 5 . . . . . 7 .\n",
      ". . 8 . . 4 . . .\n",
      "\n",
      "\n",
      "Sudoku resuelto:\n",
      "4 3 5 9 6 1 2 8 7\n",
      "9 2 6 7 4 8 5 3 1\n",
      "8 7 1 2 3 5 9 6 4\n",
      "1 4 7 5 2 6 3 9 8\n",
      "5 9 3 1 8 7 4 2 6\n",
      "6 8 2 4 9 3 7 1 5\n",
      "7 6 9 8 5 2 1 4 3\n",
      "3 5 4 6 1 9 8 7 2\n",
      "2 1 8 3 7 4 6 5 9\n",
      "\n"
     ]
    }
   ],
   "source": [
    "sudoku_x = (\n",
    "    '...9..2..'\n",
    "    '.2.....3.'\n",
    "    '..1.3.9..'\n",
    "    '1.......8'\n",
    "    '..3...4..'\n",
    "    '6.......5'\n",
    "    '..9.5.1..'\n",
    "    '.5.....7.'\n",
    "    '..8..4...'\n",
    ")\n",
    "resolver_sudoku_x(sudoku_x)"
   ]
  },
  {
   "cell_type": "markdown",
   "id": "654023d8",
   "metadata": {},
   "source": [
    "#\n",
    "**Solucion con Naked Twins**"
   ]
  },
  {
   "cell_type": "code",
   "execution_count": 5,
   "id": "921c8807",
   "metadata": {},
   "outputs": [
    {
     "name": "stdout",
     "output_type": "stream",
     "text": [
      "Sudoku inicial:\n",
      ". . 3 . 2 . 6 . .\n",
      "9 . . 3 . 5 . . 1\n",
      ". . 1 8 . 6 4 . .\n",
      ". . 8 1 . 2 9 . .\n",
      "7 . . . . . . . 8\n",
      ". . 6 7 . 8 2 . .\n",
      ". . 2 6 . 9 5 . .\n",
      "8 . . 2 . 3 . . 9\n",
      ". . 5 . 1 . 3 . .\n",
      "\n",
      "\n",
      "Sudoku resuelto:\n",
      "4 8 3 9 2 1 6 5 7\n",
      "9 6 7 3 4 5 8 2 1\n",
      "2 5 1 8 7 6 4 9 3\n",
      "5 4 8 1 3 2 9 7 6\n",
      "7 2 9 5 6 4 1 3 8\n",
      "1 3 6 7 9 8 2 4 5\n",
      "3 7 2 6 8 9 5 1 4\n",
      "8 1 4 2 5 3 7 6 9\n",
      "6 9 5 4 1 7 3 8 2\n",
      "\n"
     ]
    }
   ],
   "source": [
    "sudoku_naked_twins = (\n",
    "    '..3.2.6..'\n",
    "    '9..3.5..1'\n",
    "    '..18.64..'\n",
    "    '..81.29..'\n",
    "    '7.......8'\n",
    "    '..67.82..'\n",
    "    '..26.95..'\n",
    "    '8..2.3..9'\n",
    "    '..5.1.3..'\n",
    ")\n",
    "\n",
    "resolver_sudoku(sudoku_naked_twins)"
   ]
  }
 ],
 "metadata": {
  "kernelspec": {
   "display_name": "Python 3",
   "language": "python",
   "name": "python3"
  },
  "language_info": {
   "codemirror_mode": {
    "name": "ipython",
    "version": 3
   },
   "file_extension": ".py",
   "mimetype": "text/x-python",
   "name": "python",
   "nbconvert_exporter": "python",
   "pygments_lexer": "ipython3",
   "version": "3.10.0"
  }
 },
 "nbformat": 4,
 "nbformat_minor": 5
}
